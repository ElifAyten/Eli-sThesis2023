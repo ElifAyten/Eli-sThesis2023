{
 "cells": [
  {
   "cell_type": "markdown",
   "id": "82a251ed",
   "metadata": {},
   "source": [
    "### Preprocessing the images by scaling them down to 1/8, 1/4, 1/2, and 1/1 of their original size."
   ]
  },
  {
   "cell_type": "code",
   "execution_count": 2,
   "id": "c25eefb5",
   "metadata": {},
   "outputs": [],
   "source": [
    "import os\n",
    "from PIL import Image\n",
    "\n",
    "# Define the input and output directories\n",
    "input_dir = \"/Users/elifayten/Downloads/chosenimages_downscale\"\n",
    "output_dir = \"/Users/elifayten/Downloads/downscaled\"\n",
    "\n",
    "# Iterate over all the files in the input directory\n",
    "for filename in os.listdir(input_dir):\n",
    "    # Check if the file is an image\n",
    "    if filename.endswith(\".jpg\") or filename.endswith(\".jpeg\") or filename.endswith(\".png\"):\n",
    "        # Open the input image\n",
    "        input_image = Image.open(os.path.join(input_dir, filename))\n",
    "        width, height = input_image.size\n",
    "        # Define the new sizes to rescale to\n",
    "        new_sizes = [(width // 8, height // 8), (width // 4, height // 4), (width // 2, height // 2), (width, height)]\n",
    "        # Rescale the image to each of the new sizes and save to the output directory\n",
    "        for i, new_size in enumerate(new_sizes):\n",
    "            rescaled_image = input_image.resize(new_size)\n",
    "            output_path = os.path.join(output_dir, f\"{filename[:-4]}_{i}.jpg\")\n",
    "            rescaled_image.save(output_path)\n"
   ]
  },
  {
   "cell_type": "markdown",
   "id": "3742879c",
   "metadata": {},
   "source": [
    "### Train style transfer models "
   ]
  },
  {
   "cell_type": "code",
   "execution_count": 2,
   "id": "50faa7cb",
   "metadata": {},
   "outputs": [
    {
     "name": "stdout",
     "output_type": "stream",
     "text": [
      "Rescaled image dimensions: (38, 58)\n",
      "Rescaled image dimensions: (77, 117)\n",
      "Rescaled image dimensions: (155, 235)\n",
      "Rescaled image dimensions: (310, 470)\n",
      "Rescaled image dimensions: (26, 33)\n",
      "Rescaled image dimensions: (52, 67)\n",
      "Rescaled image dimensions: (105, 135)\n",
      "Rescaled image dimensions: (210, 270)\n",
      "Rescaled image dimensions: (93, 72)\n",
      "Rescaled image dimensions: (187, 144)\n",
      "Rescaled image dimensions: (375, 289)\n",
      "Rescaled image dimensions: (750, 578)\n",
      "Rescaled image dimensions: (93, 66)\n",
      "Rescaled image dimensions: (187, 132)\n",
      "Rescaled image dimensions: (375, 265)\n",
      "Rescaled image dimensions: (750, 530)\n",
      "Rescaled image dimensions: (59, 75)\n",
      "Rescaled image dimensions: (118, 150)\n",
      "Rescaled image dimensions: (237, 300)\n",
      "Rescaled image dimensions: (475, 600)\n",
      "Rescaled image dimensions: (250, 170)\n",
      "Rescaled image dimensions: (500, 340)\n",
      "Rescaled image dimensions: (1000, 681)\n",
      "Rescaled image dimensions: (2000, 1363)\n",
      "Rescaled image dimensions: (100, 79)\n",
      "Rescaled image dimensions: (200, 158)\n",
      "Rescaled image dimensions: (400, 316)\n",
      "Rescaled image dimensions: (800, 632)\n",
      "Rescaled image dimensions: (92, 75)\n",
      "Rescaled image dimensions: (184, 150)\n",
      "Rescaled image dimensions: (368, 300)\n",
      "Rescaled image dimensions: (736, 600)\n",
      "Rescaled image dimensions: (80, 37)\n",
      "Rescaled image dimensions: (160, 74)\n",
      "Rescaled image dimensions: (320, 148)\n",
      "Rescaled image dimensions: (640, 296)\n",
      "Rescaled image dimensions: (75, 119)\n",
      "Rescaled image dimensions: (150, 239)\n",
      "Rescaled image dimensions: (300, 478)\n",
      "Rescaled image dimensions: (600, 957)\n",
      "Rescaled image dimensions: (93, 64)\n",
      "Rescaled image dimensions: (187, 128)\n",
      "Rescaled image dimensions: (375, 256)\n",
      "Rescaled image dimensions: (750, 512)\n",
      "Rescaled image dimensions: (192, 156)\n",
      "Rescaled image dimensions: (384, 313)\n",
      "Rescaled image dimensions: (768, 626)\n",
      "Rescaled image dimensions: (1536, 1252)\n",
      "Rescaled image dimensions: (790, 374)\n",
      "Rescaled image dimensions: (1581, 748)\n",
      "Rescaled image dimensions: (3162, 1497)\n",
      "Rescaled image dimensions: (6324, 2995)\n",
      "Rescaled image dimensions: (63, 96)\n",
      "Rescaled image dimensions: (127, 192)\n",
      "Rescaled image dimensions: (255, 384)\n",
      "Rescaled image dimensions: (510, 768)\n",
      "Rescaled image dimensions: (210, 321)\n",
      "Rescaled image dimensions: (421, 642)\n",
      "Rescaled image dimensions: (843, 1285)\n",
      "Rescaled image dimensions: (1686, 2571)\n",
      "Rescaled image dimensions: (98, 192)\n",
      "Rescaled image dimensions: (196, 384)\n",
      "Rescaled image dimensions: (393, 768)\n",
      "Rescaled image dimensions: (786, 1536)\n"
     ]
    }
   ],
   "source": [
    "import os\n",
    "from PIL import Image\n",
    "\n",
    "# Define the input and output directories\n",
    "input_dir = \"/Users/elifayten/Downloads/chosenimages_downscale\"\n",
    "output_dir = \"/Users/elifayten/Downloads/downscaled_4_versions\"\n",
    "\n",
    "# Iterate over all the files in the input directory\n",
    "for filename in os.listdir(input_dir):\n",
    "    # Check if the file is an image\n",
    "    if filename.endswith(\".jpg\") or filename.endswith(\".jpeg\") or filename.endswith(\".png\"):\n",
    "        # Open the input image\n",
    "        input_image = Image.open(os.path.join(input_dir, filename))\n",
    "        width, height = input_image.size\n",
    "        # Define the new sizes to rescale to\n",
    "        new_sizes = [(width // 8, height // 8), (width // 4, height // 4), (width // 2, height // 2), (width, height)]\n",
    "        # Rescale the image to each of the new sizes and save to the output directory\n",
    "        for i, new_size in enumerate(new_sizes):\n",
    "            rescaled_image = input_image.resize(new_size)\n",
    "            output_path = os.path.join(output_dir, f\"{filename[:-4]}_{i}.jpg\")\n",
    "            rescaled_image.save(output_path)\n",
    "            # Print the dimensions of the rescaled image\n",
    "            print(f\"Rescaled image dimensions: {rescaled_image.size}\")\n"
   ]
  },
  {
   "cell_type": "code",
   "execution_count": null,
   "id": "c4b0eb55",
   "metadata": {},
   "outputs": [],
   "source": []
  }
 ],
 "metadata": {
  "kernelspec": {
   "display_name": "Python 3 (ipykernel)",
   "language": "python",
   "name": "python3"
  },
  "language_info": {
   "codemirror_mode": {
    "name": "ipython",
    "version": 3
   },
   "file_extension": ".py",
   "mimetype": "text/x-python",
   "name": "python",
   "nbconvert_exporter": "python",
   "pygments_lexer": "ipython3",
   "version": "3.10.7"
  }
 },
 "nbformat": 4,
 "nbformat_minor": 5
}
