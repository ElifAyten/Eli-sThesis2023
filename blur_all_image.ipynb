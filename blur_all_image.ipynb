{
 "cells": [
  {
   "cell_type": "markdown",
   "id": "616a35a0",
   "metadata": {},
   "source": [
    "### Blur all the images"
   ]
  },
  {
   "cell_type": "code",
   "execution_count": 1,
   "id": "e6e1f829",
   "metadata": {},
   "outputs": [],
   "source": [
    "from PIL import Image, ImageFilter\n",
    "import os\n",
    "\n",
    "# Path to the directory containing the images\n",
    "image_dir = '/Users/elifayten/Downloads/chosenimages_downscale'\n",
    "\n",
    "# List all the image files in the directory\n",
    "image_files = [file for file in os.listdir(image_dir) if file.lower().endswith(('.png', '.jpg', '.jpeg'))]\n",
    "\n",
    "# Loop over each image file\n",
    "for filename in image_files:\n",
    "    # Load the image\n",
    "    image_path = os.path.join(image_dir, filename)\n",
    "    image = Image.open(image_path)\n",
    "\n",
    "    # Apply a blur effect to the image\n",
    "    blurred_image = image.filter(ImageFilter.GaussianBlur(radius=10))\n",
    "\n",
    "    # Save the blurred image\n",
    "    output_path = os.path.join(image_dir, 'blurred_' + filename)\n",
    "    blurred_image.save(output_path)\n",
    "\n"
   ]
  },
  {
   "cell_type": "code",
   "execution_count": null,
   "id": "82a34260",
   "metadata": {},
   "outputs": [],
   "source": []
  }
 ],
 "metadata": {
  "kernelspec": {
   "display_name": "Python 3 (ipykernel)",
   "language": "python",
   "name": "python3"
  },
  "language_info": {
   "codemirror_mode": {
    "name": "ipython",
    "version": 3
   },
   "file_extension": ".py",
   "mimetype": "text/x-python",
   "name": "python",
   "nbconvert_exporter": "python",
   "pygments_lexer": "ipython3",
   "version": "3.10.7"
  }
 },
 "nbformat": 4,
 "nbformat_minor": 5
}
